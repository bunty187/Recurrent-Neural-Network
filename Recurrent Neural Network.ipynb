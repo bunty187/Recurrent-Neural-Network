{
 "cells": [
  {
   "cell_type": "code",
   "execution_count": 1,
   "id": "d9fbccbe",
   "metadata": {},
   "outputs": [],
   "source": [
    "import numpy as np\n",
    "import pandas as pd\n",
    "import matplotlib.pyplot as plt"
   ]
  },
  {
   "cell_type": "markdown",
   "id": "66016a36",
   "metadata": {},
   "source": [
    "## Data Preprocessing"
   ]
  },
  {
   "cell_type": "code",
   "execution_count": 2,
   "id": "435c4900",
   "metadata": {},
   "outputs": [
    {
     "data": {
      "text/html": [
       "<div>\n",
       "<style scoped>\n",
       "    .dataframe tbody tr th:only-of-type {\n",
       "        vertical-align: middle;\n",
       "    }\n",
       "\n",
       "    .dataframe tbody tr th {\n",
       "        vertical-align: top;\n",
       "    }\n",
       "\n",
       "    .dataframe thead th {\n",
       "        text-align: right;\n",
       "    }\n",
       "</style>\n",
       "<table border=\"1\" class=\"dataframe\">\n",
       "  <thead>\n",
       "    <tr style=\"text-align: right;\">\n",
       "      <th></th>\n",
       "      <th>Date</th>\n",
       "      <th>Open</th>\n",
       "      <th>High</th>\n",
       "      <th>Low</th>\n",
       "      <th>Close</th>\n",
       "      <th>Volume</th>\n",
       "    </tr>\n",
       "  </thead>\n",
       "  <tbody>\n",
       "    <tr>\n",
       "      <th>0</th>\n",
       "      <td>1/3/2012</td>\n",
       "      <td>325.25</td>\n",
       "      <td>332.83</td>\n",
       "      <td>324.97</td>\n",
       "      <td>663.59</td>\n",
       "      <td>7,380,500</td>\n",
       "    </tr>\n",
       "    <tr>\n",
       "      <th>1</th>\n",
       "      <td>1/4/2012</td>\n",
       "      <td>331.27</td>\n",
       "      <td>333.87</td>\n",
       "      <td>329.08</td>\n",
       "      <td>666.45</td>\n",
       "      <td>5,749,400</td>\n",
       "    </tr>\n",
       "    <tr>\n",
       "      <th>2</th>\n",
       "      <td>1/5/2012</td>\n",
       "      <td>329.83</td>\n",
       "      <td>330.75</td>\n",
       "      <td>326.89</td>\n",
       "      <td>657.21</td>\n",
       "      <td>6,590,300</td>\n",
       "    </tr>\n",
       "    <tr>\n",
       "      <th>3</th>\n",
       "      <td>1/6/2012</td>\n",
       "      <td>328.34</td>\n",
       "      <td>328.77</td>\n",
       "      <td>323.68</td>\n",
       "      <td>648.24</td>\n",
       "      <td>5,405,900</td>\n",
       "    </tr>\n",
       "    <tr>\n",
       "      <th>4</th>\n",
       "      <td>1/9/2012</td>\n",
       "      <td>322.04</td>\n",
       "      <td>322.29</td>\n",
       "      <td>309.46</td>\n",
       "      <td>620.76</td>\n",
       "      <td>11,688,800</td>\n",
       "    </tr>\n",
       "  </tbody>\n",
       "</table>\n",
       "</div>"
      ],
      "text/plain": [
       "       Date    Open    High     Low   Close      Volume\n",
       "0  1/3/2012  325.25  332.83  324.97  663.59   7,380,500\n",
       "1  1/4/2012  331.27  333.87  329.08  666.45   5,749,400\n",
       "2  1/5/2012  329.83  330.75  326.89  657.21   6,590,300\n",
       "3  1/6/2012  328.34  328.77  323.68  648.24   5,405,900\n",
       "4  1/9/2012  322.04  322.29  309.46  620.76  11,688,800"
      ]
     },
     "execution_count": 2,
     "metadata": {},
     "output_type": "execute_result"
    }
   ],
   "source": [
    "data_train=pd.read_csv('Google_Stock_Price_Train.csv')\n",
    "data_train.head()"
   ]
  },
  {
   "cell_type": "code",
   "execution_count": 3,
   "id": "fc146f8b",
   "metadata": {},
   "outputs": [],
   "source": [
    "training_set=data_train.iloc[:,1:2].values # values create a numpy array"
   ]
  },
  {
   "cell_type": "code",
   "execution_count": 4,
   "id": "9a94de44",
   "metadata": {},
   "outputs": [
    {
     "data": {
      "text/plain": [
       "array([[325.25],\n",
       "       [331.27],\n",
       "       [329.83],\n",
       "       ...,\n",
       "       [793.7 ],\n",
       "       [783.33],\n",
       "       [782.75]])"
      ]
     },
     "execution_count": 4,
     "metadata": {},
     "output_type": "execute_result"
    }
   ],
   "source": [
    "training_set"
   ]
  },
  {
   "cell_type": "markdown",
   "id": "c3f8396a",
   "metadata": {},
   "source": [
    "## Feature Scalling"
   ]
  },
  {
   "cell_type": "code",
   "execution_count": 5,
   "id": "b749ba3a",
   "metadata": {},
   "outputs": [
    {
     "data": {
      "text/plain": [
       "array([[0.08581368],\n",
       "       [0.09701243],\n",
       "       [0.09433366],\n",
       "       ...,\n",
       "       [0.95725128],\n",
       "       [0.93796041],\n",
       "       [0.93688146]])"
      ]
     },
     "execution_count": 5,
     "metadata": {},
     "output_type": "execute_result"
    }
   ],
   "source": [
    "# In RNN We recommended a Normalisation of Scaling\n",
    "from sklearn.preprocessing import MinMaxScaler\n",
    "sc=MinMaxScaler(feature_range=(0,1))\n",
    "training_set_scaled=sc.fit_transform(training_set)\n",
    "training_set_scaled"
   ]
  },
  {
   "cell_type": "markdown",
   "id": "6a1f74a9",
   "metadata": {},
   "source": [
    "## Creating a data structure with 60 timesteps and 1 output"
   ]
  },
  {
   "cell_type": "code",
   "execution_count": 6,
   "id": "dda3656f",
   "metadata": {},
   "outputs": [],
   "source": [
    "X_train=[]\n",
    "y_train=[]\n",
    "for i in range(60,1258):\n",
    "    X_train.append(training_set_scaled[i-60:i,0])\n",
    "    y_train.append(training_set_scaled[i,0])\n",
    "X_train,y_train=np.array(X_train), np.array(y_train)    "
   ]
  },
  {
   "cell_type": "code",
   "execution_count": 7,
   "id": "459f9887",
   "metadata": {},
   "outputs": [
    {
     "data": {
      "text/plain": [
       "array([[0.08581368, 0.09701243, 0.09433366, ..., 0.07846566, 0.08034452,\n",
       "        0.08497656],\n",
       "       [0.09701243, 0.09433366, 0.09156187, ..., 0.08034452, 0.08497656,\n",
       "        0.08627874],\n",
       "       [0.09433366, 0.09156187, 0.07984225, ..., 0.08497656, 0.08627874,\n",
       "        0.08471612],\n",
       "       ...,\n",
       "       [0.92106928, 0.92438053, 0.93048218, ..., 0.95475854, 0.95204256,\n",
       "        0.95163331],\n",
       "       [0.92438053, 0.93048218, 0.9299055 , ..., 0.95204256, 0.95163331,\n",
       "        0.95725128],\n",
       "       [0.93048218, 0.9299055 , 0.93113327, ..., 0.95163331, 0.95725128,\n",
       "        0.93796041]])"
      ]
     },
     "execution_count": 7,
     "metadata": {},
     "output_type": "execute_result"
    }
   ],
   "source": [
    "X_train"
   ]
  },
  {
   "cell_type": "code",
   "execution_count": 8,
   "id": "061a873d",
   "metadata": {},
   "outputs": [
    {
     "data": {
      "text/plain": [
       "array([0.08627874, 0.08471612, 0.07454052, ..., 0.95725128, 0.93796041,\n",
       "       0.93688146])"
      ]
     },
     "execution_count": 8,
     "metadata": {},
     "output_type": "execute_result"
    }
   ],
   "source": [
    "y_train"
   ]
  },
  {
   "cell_type": "markdown",
   "id": "f54c7d48",
   "metadata": {},
   "source": [
    "## Reshaping  "
   ]
  },
  {
   "cell_type": "code",
   "execution_count": 9,
   "id": "68bb0066",
   "metadata": {},
   "outputs": [],
   "source": [
    "X_train=np.reshape(X_train,(X_train.shape[0],X_train.shape[1],1))"
   ]
  },
  {
   "cell_type": "markdown",
   "id": "8a8d29d4",
   "metadata": {},
   "source": [
    "## Part 2 - Building and Training the RNN"
   ]
  },
  {
   "cell_type": "markdown",
   "id": "909093f6",
   "metadata": {},
   "source": [
    "## Import the Keras Libraries and packages"
   ]
  },
  {
   "cell_type": "code",
   "execution_count": 10,
   "id": "f7d90a36",
   "metadata": {},
   "outputs": [],
   "source": [
    "from keras.models import Sequential\n",
    "from keras.layers import Dense\n",
    "from keras.layers import LSTM\n",
    "from keras.layers import Dropout"
   ]
  },
  {
   "cell_type": "markdown",
   "id": "84d13eb3",
   "metadata": {},
   "source": [
    "## Intialising the RNN "
   ]
  },
  {
   "cell_type": "code",
   "execution_count": 11,
   "id": "4d2573f9",
   "metadata": {},
   "outputs": [],
   "source": [
    "regressor=Sequential()"
   ]
  },
  {
   "cell_type": "markdown",
   "id": "8cf830e7",
   "metadata": {},
   "source": [
    "## Adding the first LSTM layer and some Dropout regularisation "
   ]
  },
  {
   "cell_type": "code",
   "execution_count": 12,
   "id": "dbd16f0e",
   "metadata": {},
   "outputs": [],
   "source": [
    "# This is a stack Lstm Neural network that's why we use return_sequences=True\n",
    "regressor.add(LSTM(units=50,return_sequences=True,input_shape=(X_train.shape[1],1)))\n",
    "regressor.add(Dropout(0.2))"
   ]
  },
  {
   "cell_type": "markdown",
   "id": "0c0a76b8",
   "metadata": {},
   "source": [
    "##  Adding the second LSTM layer and some Dropout regularisation"
   ]
  },
  {
   "cell_type": "code",
   "execution_count": 13,
   "id": "2455449f",
   "metadata": {},
   "outputs": [],
   "source": [
    "regressor.add(LSTM(units=50,return_sequences=True))\n",
    "regressor.add(Dropout(0.2))"
   ]
  },
  {
   "cell_type": "markdown",
   "id": "73dbdeaa",
   "metadata": {},
   "source": [
    "##  Adding the Third LSTM layer and some Dropout regularisation"
   ]
  },
  {
   "cell_type": "code",
   "execution_count": 14,
   "id": "c73b7309",
   "metadata": {},
   "outputs": [],
   "source": [
    "regressor.add(LSTM(units=50,return_sequences=True))\n",
    "regressor.add(Dropout(0.2))"
   ]
  },
  {
   "cell_type": "markdown",
   "id": "b206c2ca",
   "metadata": {},
   "source": [
    "## Adding the Fourth LSTM layer and some Dropout regularisation"
   ]
  },
  {
   "cell_type": "code",
   "execution_count": 15,
   "id": "f6f79050",
   "metadata": {},
   "outputs": [],
   "source": [
    "regressor.add(LSTM(units=50))\n",
    "regressor.add(Dropout(0.2))"
   ]
  },
  {
   "cell_type": "markdown",
   "id": "e04db31a",
   "metadata": {},
   "source": [
    "## Adding the Output Layer"
   ]
  },
  {
   "cell_type": "code",
   "execution_count": 16,
   "id": "04133cb3",
   "metadata": {},
   "outputs": [],
   "source": [
    "regressor.add(Dense(units=1))"
   ]
  },
  {
   "cell_type": "markdown",
   "id": "9fa95fba",
   "metadata": {},
   "source": [
    "## Compiling the RNN "
   ]
  },
  {
   "cell_type": "code",
   "execution_count": 18,
   "id": "e9db0840",
   "metadata": {},
   "outputs": [],
   "source": [
    "regressor.compile(optimizer='adam',loss='mean_squared_error')"
   ]
  },
  {
   "cell_type": "markdown",
   "id": "6254d5d2",
   "metadata": {},
   "source": [
    "## Fitting the RNN to the Training set "
   ]
  },
  {
   "cell_type": "code",
   "execution_count": 19,
   "id": "2d5f02a9",
   "metadata": {},
   "outputs": [
    {
     "name": "stdout",
     "output_type": "stream",
     "text": [
      "Epoch 1/100\n",
      "38/38 [==============================] - 38s 530ms/step - loss: 0.0462\n",
      "Epoch 2/100\n",
      "38/38 [==============================] - 22s 580ms/step - loss: 0.0074\n",
      "Epoch 3/100\n",
      "38/38 [==============================] - 21s 542ms/step - loss: 0.0062\n",
      "Epoch 4/100\n",
      "38/38 [==============================] - 21s 553ms/step - loss: 0.0052\n",
      "Epoch 5/100\n",
      "38/38 [==============================] - 22s 571ms/step - loss: 0.0051\n",
      "Epoch 6/100\n",
      "38/38 [==============================] - 20s 525ms/step - loss: 0.0052\n",
      "Epoch 7/100\n",
      "38/38 [==============================] - 20s 527ms/step - loss: 0.0054\n",
      "Epoch 8/100\n",
      "38/38 [==============================] - 25s 647ms/step - loss: 0.0048\n",
      "Epoch 9/100\n",
      "38/38 [==============================] - 22s 565ms/step - loss: 0.0046\n",
      "Epoch 10/100\n",
      "38/38 [==============================] - 23s 616ms/step - loss: 0.0044\n",
      "Epoch 11/100\n",
      "38/38 [==============================] - 24s 622ms/step - loss: 0.0043\n",
      "Epoch 12/100\n",
      "38/38 [==============================] - 21s 560ms/step - loss: 0.0059\n",
      "Epoch 13/100\n",
      "38/38 [==============================] - 21s 565ms/step - loss: 0.0046\n",
      "Epoch 14/100\n",
      "38/38 [==============================] - 23s 608ms/step - loss: 0.0041\n",
      "Epoch 15/100\n",
      "38/38 [==============================] - 23s 617ms/step - loss: 0.0050\n",
      "Epoch 16/100\n",
      "38/38 [==============================] - 22s 587ms/step - loss: 0.0040\n",
      "Epoch 17/100\n",
      "38/38 [==============================] - 23s 608ms/step - loss: 0.0035\n",
      "Epoch 18/100\n",
      "38/38 [==============================] - 21s 555ms/step - loss: 0.0041\n",
      "Epoch 19/100\n",
      "38/38 [==============================] - 21s 564ms/step - loss: 0.0036\n",
      "Epoch 20/100\n",
      "38/38 [==============================] - 23s 601ms/step - loss: 0.0032\n",
      "Epoch 21/100\n",
      "38/38 [==============================] - 21s 561ms/step - loss: 0.0037\n",
      "Epoch 22/100\n",
      "38/38 [==============================] - 22s 565ms/step - loss: 0.0035\n",
      "Epoch 23/100\n",
      "38/38 [==============================] - 23s 605ms/step - loss: 0.0034\n",
      "Epoch 24/100\n",
      "38/38 [==============================] - 21s 561ms/step - loss: 0.0032\n",
      "Epoch 25/100\n",
      "38/38 [==============================] - 21s 556ms/step - loss: 0.0030\n",
      "Epoch 26/100\n",
      "38/38 [==============================] - 23s 610ms/step - loss: 0.0032\n",
      "Epoch 27/100\n",
      "38/38 [==============================] - 21s 556ms/step - loss: 0.0031\n",
      "Epoch 28/100\n",
      "38/38 [==============================] - 21s 562ms/step - loss: 0.0031\n",
      "Epoch 29/100\n",
      "38/38 [==============================] - 23s 611ms/step - loss: 0.0031\n",
      "Epoch 30/100\n",
      "38/38 [==============================] - 24s 634ms/step - loss: 0.0030\n",
      "Epoch 31/100\n",
      "38/38 [==============================] - 22s 581ms/step - loss: 0.0029\n",
      "Epoch 32/100\n",
      "38/38 [==============================] - 23s 604ms/step - loss: 0.0029\n",
      "Epoch 33/100\n",
      "38/38 [==============================] - 21s 563ms/step - loss: 0.0028\n",
      "Epoch 34/100\n",
      "38/38 [==============================] - 21s 563ms/step - loss: 0.0028\n",
      "Epoch 35/100\n",
      "38/38 [==============================] - 23s 618ms/step - loss: 0.0027\n",
      "Epoch 36/100\n",
      "38/38 [==============================] - 22s 566ms/step - loss: 0.0028\n",
      "Epoch 37/100\n",
      "38/38 [==============================] - 22s 571ms/step - loss: 0.0034\n",
      "Epoch 38/100\n",
      "38/38 [==============================] - 25s 655ms/step - loss: 0.0025\n",
      "Epoch 39/100\n",
      "38/38 [==============================] - 20s 536ms/step - loss: 0.0027\n",
      "Epoch 40/100\n",
      "38/38 [==============================] - 20s 536ms/step - loss: 0.0025\n",
      "Epoch 41/100\n",
      "38/38 [==============================] - 22s 585ms/step - loss: 0.0030\n",
      "Epoch 42/100\n",
      "38/38 [==============================] - 20s 536ms/step - loss: 0.0026\n",
      "Epoch 43/100\n",
      "38/38 [==============================] - 20s 535ms/step - loss: 0.0025\n",
      "Epoch 44/100\n",
      "38/38 [==============================] - 22s 575ms/step - loss: 0.0026\n",
      "Epoch 45/100\n",
      "38/38 [==============================] - 20s 535ms/step - loss: 0.0024\n",
      "Epoch 46/100\n",
      "38/38 [==============================] - 21s 548ms/step - loss: 0.0025\n",
      "Epoch 47/100\n",
      "38/38 [==============================] - 22s 580ms/step - loss: 0.0024\n",
      "Epoch 48/100\n",
      "38/38 [==============================] - 20s 537ms/step - loss: 0.0025\n",
      "Epoch 49/100\n",
      "38/38 [==============================] - 20s 536ms/step - loss: 0.0026\n",
      "Epoch 50/100\n",
      "38/38 [==============================] - 22s 579ms/step - loss: 0.0022\n",
      "Epoch 51/100\n",
      "38/38 [==============================] - 20s 534ms/step - loss: 0.0023\n",
      "Epoch 52/100\n",
      "38/38 [==============================] - 21s 554ms/step - loss: 0.0022\n",
      "Epoch 53/100\n",
      "38/38 [==============================] - 24s 642ms/step - loss: 0.0020\n",
      "Epoch 54/100\n",
      "38/38 [==============================] - 20s 531ms/step - loss: 0.0021\n",
      "Epoch 55/100\n",
      "38/38 [==============================] - 20s 532ms/step - loss: 0.0022\n",
      "Epoch 56/100\n",
      "38/38 [==============================] - 21s 559ms/step - loss: 0.0020\n",
      "Epoch 57/100\n",
      "38/38 [==============================] - 21s 541ms/step - loss: 0.0023\n",
      "Epoch 58/100\n",
      "38/38 [==============================] - 21s 541ms/step - loss: 0.0021\n",
      "Epoch 59/100\n",
      "38/38 [==============================] - 22s 584ms/step - loss: 0.0020\n",
      "Epoch 60/100\n",
      "38/38 [==============================] - 23s 602ms/step - loss: 0.0018\n",
      "Epoch 61/100\n",
      "38/38 [==============================] - 23s 595ms/step - loss: 0.0021\n",
      "Epoch 62/100\n",
      "38/38 [==============================] - 24s 627ms/step - loss: 0.0020\n",
      "Epoch 63/100\n",
      "38/38 [==============================] - 21s 545ms/step - loss: 0.0018\n",
      "Epoch 64/100\n",
      "38/38 [==============================] - 20s 537ms/step - loss: 0.0022\n",
      "Epoch 65/100\n",
      "38/38 [==============================] - 23s 599ms/step - loss: 0.0018\n",
      "Epoch 66/100\n",
      "38/38 [==============================] - 22s 563ms/step - loss: 0.0022\n",
      "Epoch 67/100\n",
      "38/38 [==============================] - 20s 538ms/step - loss: 0.0021\n",
      "Epoch 68/100\n",
      "38/38 [==============================] - 20s 536ms/step - loss: 0.0019\n",
      "Epoch 69/100\n",
      "38/38 [==============================] - 24s 621ms/step - loss: 0.0018\n",
      "Epoch 70/100\n",
      "38/38 [==============================] - 20s 536ms/step - loss: 0.0017\n",
      "Epoch 71/100\n",
      "38/38 [==============================] - 20s 536ms/step - loss: 0.0017\n",
      "Epoch 72/100\n",
      "38/38 [==============================] - 22s 580ms/step - loss: 0.0017\n",
      "Epoch 73/100\n",
      "38/38 [==============================] - 21s 559ms/step - loss: 0.0016\n",
      "Epoch 74/100\n",
      "38/38 [==============================] - 21s 544ms/step - loss: 0.0019\n",
      "Epoch 75/100\n",
      "38/38 [==============================] - 22s 582ms/step - loss: 0.0018\n",
      "Epoch 76/100\n",
      "38/38 [==============================] - 21s 546ms/step - loss: 0.0018\n",
      "Epoch 77/100\n",
      "38/38 [==============================] - 20s 537ms/step - loss: 0.0019\n",
      "Epoch 78/100\n",
      "38/38 [==============================] - 23s 606ms/step - loss: 0.0018\n",
      "Epoch 79/100\n",
      "38/38 [==============================] - 23s 604ms/step - loss: 0.0015\n",
      "Epoch 80/100\n",
      "38/38 [==============================] - 21s 552ms/step - loss: 0.0016\n",
      "Epoch 81/100\n",
      "38/38 [==============================] - 22s 585ms/step - loss: 0.0018\n",
      "Epoch 82/100\n",
      "38/38 [==============================] - 21s 560ms/step - loss: 0.0017\n",
      "Epoch 83/100\n",
      "38/38 [==============================] - 20s 535ms/step - loss: 0.0016\n",
      "Epoch 84/100\n",
      "38/38 [==============================] - 24s 629ms/step - loss: 0.0016\n",
      "Epoch 85/100\n",
      "38/38 [==============================] - 21s 552ms/step - loss: 0.0015\n",
      "Epoch 86/100\n",
      "38/38 [==============================] - 21s 540ms/step - loss: 0.0015\n",
      "Epoch 87/100\n",
      "38/38 [==============================] - 24s 633ms/step - loss: 0.0016\n",
      "Epoch 88/100\n",
      "38/38 [==============================] - 21s 540ms/step - loss: 0.0016\n",
      "Epoch 89/100\n",
      "38/38 [==============================] - 22s 586ms/step - loss: 0.0015\n",
      "Epoch 90/100\n",
      "38/38 [==============================] - 22s 589ms/step - loss: 0.0016\n",
      "Epoch 91/100\n",
      "38/38 [==============================] - 21s 544ms/step - loss: 0.0014\n",
      "Epoch 92/100\n",
      "38/38 [==============================] - 24s 627ms/step - loss: 0.0016\n",
      "Epoch 93/100\n",
      "38/38 [==============================] - 24s 640ms/step - loss: 0.0014\n",
      "Epoch 94/100\n",
      "38/38 [==============================] - 21s 540ms/step - loss: 0.0017\n",
      "Epoch 95/100\n",
      "38/38 [==============================] - 21s 538ms/step - loss: 0.0015\n",
      "Epoch 96/100\n",
      "38/38 [==============================] - 22s 586ms/step - loss: 0.0014\n",
      "Epoch 97/100\n",
      "38/38 [==============================] - 21s 553ms/step - loss: 0.0014\n",
      "Epoch 98/100\n"
     ]
    },
    {
     "name": "stdout",
     "output_type": "stream",
     "text": [
      "38/38 [==============================] - 20s 521ms/step - loss: 0.0013\n",
      "Epoch 99/100\n",
      "38/38 [==============================] - 21s 566ms/step - loss: 0.0013\n",
      "Epoch 100/100\n",
      "38/38 [==============================] - 21s 560ms/step - loss: 0.0014\n"
     ]
    },
    {
     "data": {
      "text/plain": [
       "<keras.callbacks.History at 0x13d35e80>"
      ]
     },
     "execution_count": 19,
     "metadata": {},
     "output_type": "execute_result"
    }
   ],
   "source": [
    "regressor.fit(X_train,y_train,epochs=100,batch_size=32)"
   ]
  },
  {
   "cell_type": "markdown",
   "id": "b17f2102",
   "metadata": {},
   "source": [
    "## Part 3- Making the predictions and visulaising the results"
   ]
  },
  {
   "cell_type": "markdown",
   "id": "1ce10acd",
   "metadata": {},
   "source": [
    "## Getting the real Stock Price of 2017"
   ]
  },
  {
   "cell_type": "code",
   "execution_count": 20,
   "id": "499acf9c",
   "metadata": {},
   "outputs": [],
   "source": [
    "data_test=pd.read_csv('Google_Stock_Price_Test.csv')\n",
    "real_stock_price = data_test.iloc[:,1:2].values"
   ]
  },
  {
   "cell_type": "markdown",
   "id": "806e2333",
   "metadata": {},
   "source": [
    "## Getting the predicted stock price of 2017"
   ]
  },
  {
   "cell_type": "code",
   "execution_count": 21,
   "id": "6213e012",
   "metadata": {},
   "outputs": [
    {
     "name": "stdout",
     "output_type": "stream",
     "text": [
      "1/1 [==============================] - 3s 3s/step\n"
     ]
    }
   ],
   "source": [
    "dataset_total=pd.concat((data_train['Open'],data_test['Open']),axis=0)\n",
    "inputs=dataset_total[len(dataset_total)-len(data_test)-60:].values\n",
    "inputs=inputs.reshape(-1,1)\n",
    "inputs=sc.transform(inputs)\n",
    "X_test=[]\n",
    "for i in range(60,80):\n",
    "    X_test.append(inputs[i-60:i,0])\n",
    "X_test=np.array(X_test) \n",
    "X_test=np.reshape(X_test,(X_test.shape[0],X_test.shape[1],1))\n",
    "predicted_stock_price=regressor.predict(X_test)\n",
    "predicted_stock_price=sc.inverse_transform(predicted_stock_price)"
   ]
  },
  {
   "cell_type": "markdown",
   "id": "6256a18a",
   "metadata": {},
   "source": [
    "## Visualising the results "
   ]
  },
  {
   "cell_type": "code",
   "execution_count": 22,
   "id": "24e8b010",
   "metadata": {},
   "outputs": [
    {
     "data": {
      "image/png": "[encoded data removed]",
      "text/plain": [
       "<Figure size 432x288 with 1 Axes>"
      ]
     },
     "metadata": {
      "needs_background": "light"
     },
     "output_type": "display_data"
    }
   ],
   "source": [
    "plt.plot(real_stock_price,color='red',label='Real Google Stock Price')\n",
    "plt.plot(predicted_stock_price,color='blue',label='Predicted Google Stock Price')\n",
    "plt.title(\"Google Stock Price Prediction\")\n",
    "plt.xlabel(\"Time\")\n",
    "plt.ylabel('Google Stock Price')\n",
    "plt.legend()\n",
    "plt.show()"
   ]
  }
 ],
 "metadata": {
  "kernelspec": {
   "display_name": "Python 3",
   "language": "python",
   "name": "python3"
  },
  "language_info": {
   "codemirror_mode": {
    "name": "ipython",
    "version": 3
   },
   "file_extension": ".py",
   "mimetype": "text/x-python",
   "name": "python",
   "nbconvert_exporter": "python",
   "pygments_lexer": "ipython3",
   "version": "3.8.8"
  }
 },
 "nbformat": 4,
 "nbformat_minor": 5
}
